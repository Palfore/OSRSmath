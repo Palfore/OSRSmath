{
 "cells": [
  {
   "cell_type": "markdown",
   "id": "00e3ae11-e1ed-4598-9331-884210735271",
   "metadata": {},
   "source": [
    "# Solving OSRS\n",
    "\n",
    "This notebook studies the game \"Old School Runescape\" for the purpose of exploring mathematical optimization in Game Theory.\n",
    "The following contains the model and description of the solution to be optimized."
   ]
  },
  {
   "cell_type": "markdown",
   "id": "fdc2b580-f808-4508-acc4-d024f0a0f35e",
   "metadata": {},
   "source": [
    "## 1. The Game Universe\n",
    "\n",
    "The game consists of many components that provide engaging gameplay at different levels of engagement, instensity, and reward.\n",
    "To limit the scope of \"what matters\" in this universe, we will focus only on what the player can access through the user interface.\n",
    "This means, we will define the game (specifically the player) in such a way that we only care about the following factors:\n",
    "\n",
    "    1. Skills, Levels, and Experience\n",
    "    2. Quests, Achievement Diaries, and Music Unlocks\n",
    "    3. Combat Tasks\n",
    "    4. Collection Log\n",
    "\n",
    "The above are mostly static descriptions, while the following are more about real-time gameplay:\n",
    "\n",
    "    a) Inventory\n",
    "    b) Worn Equipment & Spellbook\n",
    "    c) Prayer\n",
    "\n",
    "By focusing on the first set we can describe the Player fully, with only detailed calculations required considerations of the second set of factors. \n",
    "\n",
    "Let's begin with a description of the Player. We will see that we can reduce the player to only a handful of essential variables:\n"
   ]
  },
  {
   "cell_type": "markdown",
   "id": "8ca4965d-93f3-484b-9934-465db383cfa2",
   "metadata": {},
   "source": [
    "$$P = \\{S, Q, K, \\mu\\}$$"
   ]
  },
  {
   "cell_type": "code",
   "execution_count": 42,
   "id": "2920c890-cc54-499a-b9ff-c27d21972738",
   "metadata": {},
   "outputs": [],
   "source": [
    "# from osrsmath import Player\n",
    "class Player:\n",
    "    skills: None  # (S) There are 24 skills in the game with experience. Experience converts to levels, combat level, and total level.\n",
    "    quests: None  # (Q) Quests include mini-quests, quests, achievement diaries, and music unlocks.\n",
    "    kills: None  # (K) Kills models the combat achievements and aspects of the collection log.\n",
    "    collections: None  # (u) # Models the collection log."
   ]
  },
  {
   "cell_type": "markdown",
   "id": "88b6ae06-793d-4861-a90f-e2a3569e8041",
   "metadata": {},
   "source": [
    "## 1.1 Skills\n",
    "\n",
    "There are 24 skills in the game, where each skill is represented by an integer [0, 13'034'431], which gets truncated to a level through some equation. It seems that skill \"level\" (and not experience) is always the quantity that is checked against for prerequisites. "
   ]
  },
  {
   "cell_type": "code",
   "execution_count": 50,
   "id": "605a2a28-c089-474c-a2fb-d0dafeb7c0a7",
   "metadata": {},
   "outputs": [],
   "source": [
    "class Skill:\n",
    "    MAXIMUM_EXPERIENCE: float = 13_034_431\n",
    "    \n",
    "    experience: float = 0\n",
    "    @property\n",
    "    def level(self):\n",
    "        return self.experience  # TODO calculate\n",
    "\n"
   ]
  },
  {
   "cell_type": "code",
   "execution_count": 55,
   "id": "39db6673-81b6-49b0-a2cc-4fa06593b68c",
   "metadata": {},
   "outputs": [],
   "source": [
    "class Skill(Skill):\n",
    "    def train(self, xp: float):\n",
    "        self.experience += xp\n",
    "\n",
    "\n",
    "class Skills:\n",
    "    "
   ]
  },
  {
   "cell_type": "code",
   "execution_count": 56,
   "id": "e8a2ef68-9ca8-447b-b782-c0e0be89031b",
   "metadata": {},
   "outputs": [],
   "source": [
    "# Add the skills to the player\n",
    "Player.skills = {skill_name: Skill() for skill_name in [\n",
    "    \"attack\", \"strength\", \n",
    "]}"
   ]
  },
  {
   "cell_type": "code",
   "execution_count": null,
   "id": "d6a832f7-4311-4a33-b959-d892b0e2c8e9",
   "metadata": {},
   "outputs": [],
   "source": [
    "\n",
    "player = Player()\n",
    "player.skills[\"attack\"].new_method()"
   ]
  },
  {
   "cell_type": "code",
   "execution_count": null,
   "id": "7f8cfcac-8a9b-4ed8-990b-22adf5023a21",
   "metadata": {},
   "outputs": [],
   "source": []
  }
 ],
 "metadata": {
  "kernelspec": {
   "display_name": "Python 3 (ipykernel)",
   "language": "python",
   "name": "python3"
  },
  "language_info": {
   "codemirror_mode": {
    "name": "ipython",
    "version": 3
   },
   "file_extension": ".py",
   "mimetype": "text/x-python",
   "name": "python",
   "nbconvert_exporter": "python",
   "pygments_lexer": "ipython3",
   "version": "3.12.2"
  }
 },
 "nbformat": 4,
 "nbformat_minor": 5
}
